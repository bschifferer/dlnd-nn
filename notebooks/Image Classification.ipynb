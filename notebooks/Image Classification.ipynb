{
 "cells": [
  {
   "cell_type": "markdown",
   "metadata": {
    "collapsed": true
   },
   "source": [
    "# Image Classification\n",
    "In this project, you'll classify images from the [CIFAR-10 dataset](https://www.cs.toronto.edu/~kriz/cifar.html).  The dataset consists of airplanes, dogs, cats, and other objects. You'll preprocess the images, then train a convolutional neural network on all the samples. The images need to be normalized and the labels need to be one-hot encoded.  You'll get to apply what you learned and build a convolutional, max pooling, dropout, and fully connected layers.  At the end, you'll get to see your neural network's predictions on the sample images.\n",
    "## Get the Data\n",
    "Run the following cell to download the [CIFAR-10 dataset for python](https://www.cs.toronto.edu/~kriz/cifar-10-python.tar.gz)."
   ]
  },
  {
   "cell_type": "code",
   "execution_count": 1,
   "metadata": {
    "collapsed": false
   },
   "outputs": [
    {
     "name": "stdout",
     "output_type": "stream",
     "text": [
      "All files found!\n"
     ]
    }
   ],
   "source": [
    "\"\"\"\n",
    "DON'T MODIFY ANYTHING IN THIS CELL THAT IS BELOW THIS LINE\n",
    "\"\"\"\n",
    "from urllib.request import urlretrieve\n",
    "from os.path import isfile, isdir\n",
    "from tqdm import tqdm\n",
    "import problem_unittests as tests\n",
    "import tarfile\n",
    "\n",
    "cifar10_dataset_folder_path = 'cifar-10-batches-py'\n",
    "\n",
    "class DLProgress(tqdm):\n",
    "    last_block = 0\n",
    "\n",
    "    def hook(self, block_num=1, block_size=1, total_size=None):\n",
    "        self.total = total_size\n",
    "        self.update((block_num - self.last_block) * block_size)\n",
    "        self.last_block = block_num\n",
    "\n",
    "if not isfile('cifar-10-python.tar.gz'):\n",
    "    with DLProgress(unit='B', unit_scale=True, miniters=1, desc='CIFAR-10 Dataset') as pbar:\n",
    "        urlretrieve(\n",
    "            'https://www.cs.toronto.edu/~kriz/cifar-10-python.tar.gz',\n",
    "            'cifar-10-python.tar.gz',\n",
    "            pbar.hook)\n",
    "\n",
    "if not isdir(cifar10_dataset_folder_path):\n",
    "    with tarfile.open('cifar-10-python.tar.gz') as tar:\n",
    "        tar.extractall()\n",
    "        tar.close()\n",
    "\n",
    "\n",
    "tests.test_folder_path(cifar10_dataset_folder_path)"
   ]
  },
  {
   "cell_type": "markdown",
   "metadata": {},
   "source": [
    "## Explore the Data\n",
    "The dataset is broken into batches to prevent your machine from running out of memory.  The CIFAR-10 dataset consists of 5 batches, named `data_batch_1`, `data_batch_2`, etc.. Each batch contains the labels and images that are one of the following:\n",
    "* airplane\n",
    "* automobile\n",
    "* bird\n",
    "* cat\n",
    "* deer\n",
    "* dog\n",
    "* frog\n",
    "* horse\n",
    "* ship\n",
    "* truck\n",
    "\n",
    "Understanding a dataset is part of making predictions on the data.  Play around with the code cell below by changing the `batch_id` and `sample_id`. The `batch_id` is the id for a batch (1-5). The `sample_id` is the id for a image and label pair in the batch.\n",
    "\n",
    "Ask yourself \"What are all possible labels?\", \"What is the range of values for the image data?\", \"Are the labels in order or random?\".  Answers to questions like these will help you preprocess the data and end up with better predictions."
   ]
  },
  {
   "cell_type": "code",
   "execution_count": 2,
   "metadata": {
    "collapsed": false
   },
   "outputs": [
    {
     "name": "stdout",
     "output_type": "stream",
     "text": [
      "\n",
      "Stats of batch 5:\n",
      "Samples: 10000\n",
      "Label Counts: {0: 1014, 1: 1014, 2: 952, 3: 1016, 4: 997, 5: 1025, 6: 980, 7: 977, 8: 1003, 9: 1022}\n",
      "First 20 Labels: [1, 8, 5, 1, 5, 7, 4, 3, 8, 2, 7, 2, 0, 1, 5, 9, 6, 2, 0, 8]\n",
      "\n",
      "Example of Image 5:\n",
      "Image - Min Value: 1 Max Value: 255\n",
      "Image - Shape: (32, 32, 3)\n",
      "Label - Label Id: 7 Name: horse\n"
     ]
    },
    {
     "data": {
      "image/png": "[encoded data removed]",
      "text/plain": [
       "<matplotlib.figure.Figure at 0x7f019b686dd8>"
      ]
     },
     "metadata": {
      "image/png": {
       "height": 250,
       "width": 253
      }
     },
     "output_type": "display_data"
    }
   ],
   "source": [
    "%matplotlib inline\n",
    "%config InlineBackend.figure_format = 'retina'\n",
    "\n",
    "import helper\n",
    "import numpy as np\n",
    "\n",
    "# Explore the dataset\n",
    "batch_id = 5\n",
    "sample_id = 5\n",
    "helper.display_stats(cifar10_dataset_folder_path, batch_id, sample_id)"
   ]
  },
  {
   "cell_type": "markdown",
   "metadata": {},
   "source": [
    "## Implement Preprocess Functions\n",
    "### Normalize\n",
    "In the cell below, implement the `normalize` function to take in image data, `x`, and return it as a normalized Numpy array. The values should be in the range of 0 to 1, inclusive.  The return object should be the same shape as `x`."
   ]
  },
  {
   "cell_type": "code",
   "execution_count": 3,
   "metadata": {
    "collapsed": false
   },
   "outputs": [
    {
     "name": "stdout",
     "output_type": "stream",
     "text": [
      "Tests Passed\n"
     ]
    }
   ],
   "source": [
    "def normalize(x):\n",
    "    \"\"\"\n",
    "    Normalize a list of sample image data in the range of 0 to 1\n",
    "    : x: List of image data.  The image shape is (32, 32, 3)\n",
    "    : return: Numpy array of normalize data\n",
    "    \"\"\"\n",
    "    # TODO: Implement Function\n",
    "    x = np.array(x)\n",
    "    x_min = x.min()\n",
    "    x_max = x.max()\n",
    "    x = (x - x_min) / (x_max - x_min)\n",
    "    return x\n",
    "\n",
    "\n",
    "\"\"\"\n",
    "DON'T MODIFY ANYTHING IN THIS CELL THAT IS BELOW THIS LINE\n",
    "\"\"\"\n",
    "tests.test_normalize(normalize)"
   ]
  },
  {
   "cell_type": "markdown",
   "metadata": {},
   "source": [
    "### One-hot encode\n",
    "Just like the previous code cell, you'll be implementing a function for preprocessing.  This time, you'll implement the `one_hot_encode` function. The input, `x`, are a list of labels.  Implement the function to return the list of labels as One-Hot encoded Numpy array.  The possible values for labels are 0 to 9. The one-hot encoding function should return the same encoding for each value between each call to `one_hot_encode`.  Make sure to save the map of encodings outside the function.\n",
    "\n",
    "Hint: Don't reinvent the wheel."
   ]
  },
  {
   "cell_type": "code",
   "execution_count": 4,
   "metadata": {
    "collapsed": false
   },
   "outputs": [
    {
     "name": "stdout",
     "output_type": "stream",
     "text": [
      "Tests Passed\n"
     ]
    }
   ],
   "source": [
    "def one_hot_encode(x):\n",
    "    \"\"\"\n",
    "    One hot encode a list of sample labels. Return a one-hot encoded vector for each label.\n",
    "    : x: List of sample Labels\n",
    "    : return: Numpy array of one-hot encoded labels\n",
    "    \"\"\"\n",
    "    # TODO: Implement Function\n",
    "    return np.eye(10)[x]\n",
    "\n",
    "\n",
    "\"\"\"\n",
    "DON'T MODIFY ANYTHING IN THIS CELL THAT IS BELOW THIS LINE\n",
    "\"\"\"\n",
    "tests.test_one_hot_encode(one_hot_encode)"
   ]
  },
  {
   "cell_type": "markdown",
   "metadata": {},
   "source": [
    "### Randomize Data\n",
    "As you saw from exploring the data above, the order of the samples are randomized.  It doesn't hurt to randomize it again, but you don't need to for this dataset."
   ]
  },
  {
   "cell_type": "markdown",
   "metadata": {},
   "source": [
    "## Preprocess all the data and save it\n",
    "Running the code cell below will preprocess all the CIFAR-10 data and save it to file. The code below also uses 10% of the training data for validation."
   ]
  },
  {
   "cell_type": "code",
   "execution_count": 5,
   "metadata": {
    "collapsed": false
   },
   "outputs": [],
   "source": [
    "\"\"\"\n",
    "DON'T MODIFY ANYTHING IN THIS CELL\n",
    "\"\"\"\n",
    "# Preprocess Training, Validation, and Testing Data\n",
    "helper.preprocess_and_save_data(cifar10_dataset_folder_path, normalize, one_hot_encode)"
   ]
  },
  {
   "cell_type": "markdown",
   "metadata": {},
   "source": [
    "# Check Point\n",
    "This is your first checkpoint.  If you ever decide to come back to this notebook or have to restart the notebook, you can start from here.  The preprocessed data has been saved to disk."
   ]
  },
  {
   "cell_type": "code",
   "execution_count": 6,
   "metadata": {
    "collapsed": true
   },
   "outputs": [],
   "source": [
    "\"\"\"\n",
    "DON'T MODIFY ANYTHING IN THIS CELL\n",
    "\"\"\"\n",
    "import pickle\n",
    "import problem_unittests as tests\n",
    "import helper\n",
    "\n",
    "# Load the Preprocessed Validation data\n",
    "valid_features, valid_labels = pickle.load(open('preprocess_validation.p', mode='rb'))"
   ]
  },
  {
   "cell_type": "markdown",
   "metadata": {},
   "source": [
    "## Build the network\n",
    "For the neural network, you'll build each layer into a function.  Most of the code you've seen has been outside of functions. To test your code more thoroughly, we require that you put each layer in a function.  This allows us to give you better feedback and test for simple mistakes using our unittests before you submit your project.\n",
    "\n",
    ">**Note:** If you're finding it hard to dedicate enough time for this course each week, we've provided a small shortcut to this part of the project. In the next couple of problems, you'll have the option to use classes from the [TensorFlow Layers](https://www.tensorflow.org/api_docs/python/tf/layers) or [TensorFlow Layers (contrib)](https://www.tensorflow.org/api_guides/python/contrib.layers) packages to build each layer, except the layers you build in the \"Convolutional and Max Pooling Layer\" section.  TF Layers is similar to Keras's and TFLearn's abstraction to layers, so it's easy to pickup.\n",
    "\n",
    ">However, if you would like to get the most out of this course, try to solve all the problems _without_ using anything from the TF Layers packages. You **can** still use classes from other packages that happen to have the same name as ones you find in TF Layers! For example, instead of using the TF Layers version of the `conv2d` class, [tf.layers.conv2d](https://www.tensorflow.org/api_docs/python/tf/layers/conv2d), you would want to use the TF Neural Network version of `conv2d`, [tf.nn.conv2d](https://www.tensorflow.org/api_docs/python/tf/nn/conv2d). \n",
    "\n",
    "Let's begin!\n",
    "\n",
    "### Input\n",
    "The neural network needs to read the image data, one-hot encoded labels, and dropout keep probability. Implement the following functions\n",
    "* Implement `neural_net_image_input`\n",
    " * Return a [TF Placeholder](https://www.tensorflow.org/api_docs/python/tf/placeholder)\n",
    " * Set the shape using `image_shape` with batch size set to `None`.\n",
    " * Name the TensorFlow placeholder \"x\" using the TensorFlow `name` parameter in the [TF Placeholder](https://www.tensorflow.org/api_docs/python/tf/placeholder).\n",
    "* Implement `neural_net_label_input`\n",
    " * Return a [TF Placeholder](https://www.tensorflow.org/api_docs/python/tf/placeholder)\n",
    " * Set the shape using `n_classes` with batch size set to `None`.\n",
    " * Name the TensorFlow placeholder \"y\" using the TensorFlow `name` parameter in the [TF Placeholder](https://www.tensorflow.org/api_docs/python/tf/placeholder).\n",
    "* Implement `neural_net_keep_prob_input`\n",
    " * Return a [TF Placeholder](https://www.tensorflow.org/api_docs/python/tf/placeholder) for dropout keep probability.\n",
    " * Name the TensorFlow placeholder \"keep_prob\" using the TensorFlow `name` parameter in the [TF Placeholder](https://www.tensorflow.org/api_docs/python/tf/placeholder).\n",
    "\n",
    "These names will be used at the end of the project to load your saved model.\n",
    "\n",
    "Note: `None` for shapes in TensorFlow allow for a dynamic size."
   ]
  },
  {
   "cell_type": "code",
   "execution_count": 7,
   "metadata": {
    "collapsed": false
   },
   "outputs": [
    {
     "name": "stdout",
     "output_type": "stream",
     "text": [
      "Image Input Tests Passed.\n",
      "Label Input Tests Passed.\n",
      "Keep Prob Tests Passed.\n"
     ]
    }
   ],
   "source": [
    "import tensorflow as tf\n",
    "\n",
    "def neural_net_image_input(image_shape):\n",
    "    \"\"\"\n",
    "    Return a Tensor for a bach of image input\n",
    "    : image_shape: Shape of the images\n",
    "    : return: Tensor for image input.\n",
    "    \"\"\"\n",
    "    # TODO: Implement Functio\n",
    "    #print(image_shape)\n",
    "    return tf.placeholder(tf.float32, [None, image_shape[0], image_shape[1], image_shape[2]], name='x')\n",
    "\n",
    "\n",
    "def neural_net_label_input(n_classes):\n",
    "    \"\"\"\n",
    "    Return a Tensor for a batch of label input\n",
    "    : n_classes: Number of classes\n",
    "    : return: Tensor for label input.\n",
    "    \"\"\"\n",
    "    # TODO: Implement Function\n",
    "    return tf.placeholder(tf.float32, [None, n_classes], name='y')\n",
    "\n",
    "\n",
    "def neural_net_keep_prob_input():\n",
    "    \"\"\"\n",
    "    Return a Tensor for keep probability\n",
    "    : return: Tensor for keep probability.\n",
    "    \"\"\"\n",
    "    # TODO: Implement Function\n",
    "    return tf.placeholder(tf.float32, name='keep_prob')\n",
    "\n",
    "\n",
    "\"\"\"\n",
    "DON'T MODIFY ANYTHING IN THIS CELL THAT IS BELOW THIS LINE\n",
    "\"\"\"\n",
    "tf.reset_default_graph()\n",
    "tests.test_nn_image_inputs(neural_net_image_input)\n",
    "tests.test_nn_label_inputs(neural_net_label_input)\n",
    "tests.test_nn_keep_prob_inputs(neural_net_keep_prob_input)"
   ]
  },
  {
   "cell_type": "markdown",
   "metadata": {},
   "source": [
    "### Convolution and Max Pooling Layer\n",
    "Convolution layers have a lot of success with images. For this code cell, you should implement the function `conv2d_maxpool` to apply convolution then max pooling:\n",
    "* Create the weight and bias using `conv_ksize`, `conv_num_outputs` and the shape of `x_tensor`.\n",
    "* Apply a convolution to `x_tensor` using weight and `conv_strides`.\n",
    " * We recommend you use same padding, but you're welcome to use any padding.\n",
    "* Add bias\n",
    "* Add a nonlinear activation to the convolution.\n",
    "* Apply Max Pooling using `pool_ksize` and `pool_strides`.\n",
    " * We recommend you use same padding, but you're welcome to use any padding.\n",
    "\n",
    "**Note:** You **can't** use [TensorFlow Layers](https://www.tensorflow.org/api_docs/python/tf/layers) or [TensorFlow Layers (contrib)](https://www.tensorflow.org/api_guides/python/contrib.layers) for **this** layer, but you can still use TensorFlow's [Neural Network](https://www.tensorflow.org/api_docs/python/tf/nn) package. You may still use the shortcut option for all the **other** layers."
   ]
  },
  {
   "cell_type": "code",
   "execution_count": 144,
   "metadata": {
    "collapsed": false
   },
   "outputs": [
    {
     "name": "stdout",
     "output_type": "stream",
     "text": [
      "Tests Passed\n"
     ]
    }
   ],
   "source": [
    "def conv2d_maxpool(x_tensor, conv_num_outputs, conv_ksize, conv_strides, pool_ksize, pool_strides):\n",
    "    \"\"\"\n",
    "    Apply convolution then max pooling to x_tensor\n",
    "    :param x_tensor: TensorFlow Tensor\n",
    "    :param conv_num_outputs: Number of outputs for the convolutional layer\n",
    "    :param conv_ksize: kernal size 2-D Tuple for the convolutional layer\n",
    "    :param conv_strides: Stride 2-D Tuple for convolution\n",
    "    :param pool_ksize: kernal size 2-D Tuple for pool\n",
    "    :param pool_strides: Stride 2-D Tuple for pool\n",
    "    : return: A tensor that represents convolution and max pooling of x_tensor\n",
    "    \"\"\"\n",
    "    # TODO: Implement Function\n",
    "    #print(x_tensor.shape[3])\n",
    "    shape = x_tensor.get_shape().as_list()\n",
    "    \n",
    "    weights = tf.Variable(tf.truncated_normal([conv_ksize[0], conv_ksize[1], shape[3], conv_num_outputs],stddev=0.05, mean=0)) \n",
    "    biases = tf.Variable(tf.zeros(conv_num_outputs))\n",
    "    \n",
    "    conv_layer = tf.nn.conv2d(x_tensor, weights, [1, conv_strides[0], conv_strides[1], 1], padding='SAME')\n",
    "    conv_layer = tf.nn.bias_add(conv_layer, biases)\n",
    "    conv_layer = tf.nn.relu(conv_layer)\n",
    "    pool_max_layer = tf.nn.max_pool(conv_layer,[1, pool_ksize[0], pool_ksize[1], 1],[1, pool_strides[0], pool_strides[1], 1],padding='SAME')\n",
    "    \n",
    "    return pool_max_layer\n",
    "\n",
    "\n",
    "\"\"\"\n",
    "DON'T MODIFY ANYTHING IN THIS CELL THAT IS BELOW THIS LINE\n",
    "\"\"\"\n",
    "tests.test_con_pool(conv2d_maxpool)"
   ]
  },
  {
   "cell_type": "markdown",
   "metadata": {},
   "source": [
    "### Flatten Layer\n",
    "Implement the `flatten` function to change the dimension of `x_tensor` from a 4-D tensor to a 2-D tensor.  The output should be the shape (*Batch Size*, *Flattened Image Size*). Shortcut option: you can use classes from the [TensorFlow Layers](https://www.tensorflow.org/api_docs/python/tf/layers) or [TensorFlow Layers (contrib)](https://www.tensorflow.org/api_guides/python/contrib.layers) packages for this layer. For more of a challenge, only use other TensorFlow packages."
   ]
  },
  {
   "cell_type": "code",
   "execution_count": 145,
   "metadata": {
    "collapsed": false
   },
   "outputs": [
    {
     "name": "stdout",
     "output_type": "stream",
     "text": [
      "Tests Passed\n"
     ]
    }
   ],
   "source": [
    "def flatten(x_tensor):\n",
    "    \"\"\"\n",
    "    Flatten x_tensor to (Batch Size, Flattened Image Size)\n",
    "    : x_tensor: A tensor of size (Batch Size, ...), where ... are the image dimensions.\n",
    "    : return: A tensor of size (Batch Size, Flattened Image Size).\n",
    "    \"\"\"\n",
    "    # TODO: Implement Function\n",
    "    shape = x_tensor.get_shape().as_list()\n",
    "    flattened_image_size = int(shape[1] * shape[2] * shape[3])\n",
    "\n",
    "    return tf.reshape(x_tensor, [-1, flattened_image_size])\n",
    "\n",
    "\n",
    "\"\"\"\n",
    "DON'T MODIFY ANYTHING IN THIS CELL THAT IS BELOW THIS LINE\n",
    "\"\"\"\n",
    "tests.test_flatten(flatten)"
   ]
  },
  {
   "cell_type": "markdown",
   "metadata": {},
   "source": [
    "### Fully-Connected Layer\n",
    "Implement the `fully_conn` function to apply a fully connected layer to `x_tensor` with the shape (*Batch Size*, *num_outputs*). Shortcut option: you can use classes from the [TensorFlow Layers](https://www.tensorflow.org/api_docs/python/tf/layers) or [TensorFlow Layers (contrib)](https://www.tensorflow.org/api_guides/python/contrib.layers) packages for this layer. For more of a challenge, only use other TensorFlow packages."
   ]
  },
  {
   "cell_type": "code",
   "execution_count": 146,
   "metadata": {
    "collapsed": false
   },
   "outputs": [
    {
     "name": "stdout",
     "output_type": "stream",
     "text": [
      "Tests Passed\n"
     ]
    }
   ],
   "source": [
    "def fully_conn(x_tensor, num_outputs):\n",
    "    \"\"\"\n",
    "    Apply a fully connected layer to x_tensor using weight and bias\n",
    "    : x_tensor: A 2-D tensor where the first dimension is batch size.\n",
    "    : num_outputs: The number of output that the new tensor should be.\n",
    "    : return: A 2-D tensor where the second dimension is num_outputs.\n",
    "    \"\"\"\n",
    "    # TODO: Implement Function\n",
    "    #return tf.contrib.layers.fully_connected(inputs = x_tensor, num_outputs=num_outputs)\n",
    "    shape = x_tensor.get_shape().as_list()\n",
    "    flattened_image_size = int(shape[1])\n",
    "    \n",
    "    fc = tf.add(\n",
    "        tf.matmul(x_tensor, tf.Variable(tf.random_normal([flattened_image_size, num_outputs]))), \n",
    "        tf.Variable(tf.random_normal([num_outputs])))\n",
    "    fc = tf.nn.relu(fc)\n",
    "    return fc\n",
    "\n",
    "\n",
    "\"\"\"\n",
    "DON'T MODIFY ANYTHING IN THIS CELL THAT IS BELOW THIS LINE\n",
    "\"\"\"\n",
    "tests.test_fully_conn(fully_conn)"
   ]
  },
  {
   "cell_type": "markdown",
   "metadata": {},
   "source": [
    "### Output Layer\n",
    "Implement the `output` function to apply a fully connected layer to `x_tensor` with the shape (*Batch Size*, *num_outputs*). Shortcut option: you can use classes from the [TensorFlow Layers](https://www.tensorflow.org/api_docs/python/tf/layers) or [TensorFlow Layers (contrib)](https://www.tensorflow.org/api_guides/python/contrib.layers) packages for this layer. For more of a challenge, only use other TensorFlow packages.\n",
    "\n",
    "**Note:** Activation, softmax, or cross entropy should **not** be applied to this."
   ]
  },
  {
   "cell_type": "code",
   "execution_count": 147,
   "metadata": {
    "collapsed": false
   },
   "outputs": [
    {
     "name": "stdout",
     "output_type": "stream",
     "text": [
      "Tests Passed\n"
     ]
    }
   ],
   "source": [
    "def output(x_tensor, num_outputs):\n",
    "    \"\"\"\n",
    "    Apply a output layer to x_tensor using weight and bias\n",
    "    : x_tensor: A 2-D tensor where the first dimension is batch size.\n",
    "    : num_outputs: The number of output that the new tensor should be.\n",
    "    : return: A 2-D tensor where the second dimension is num_outputs.\n",
    "    \"\"\"\n",
    "    # TODO: Implement Function\n",
    "    #print(x_tensor.get_shape().as_list()[1])\n",
    "    shape = x_tensor.get_shape().as_list()\n",
    "    flattened_image_size = int(shape[1])\n",
    "    out = tf.add(\n",
    "        tf.matmul(x_tensor, tf.Variable(tf.truncated_normal([flattened_image_size, num_outputs],stddev=0.05, mean=0))), \n",
    "        tf.Variable(tf.zeros([num_outputs])))\n",
    "    return out\n",
    "\n",
    "\"\"\"\n",
    "DON'T MODIFY ANYTHING IN THIS CELL THAT IS BELOW THIS LINE\n",
    "\"\"\"\n",
    "tests.test_output(output)"
   ]
  },
  {
   "cell_type": "markdown",
   "metadata": {},
   "source": [
    "### Create Convolutional Model\n",
    "Implement the function `conv_net` to create a convolutional neural network model. The function takes in a batch of images, `x`, and outputs logits.  Use the layers you created above to create this model:\n",
    "\n",
    "* Apply 1, 2, or 3 Convolution and Max Pool layers\n",
    "* Apply a Flatten Layer\n",
    "* Apply 1, 2, or 3 Fully Connected Layers\n",
    "* Apply an Output Layer\n",
    "* Return the output\n",
    "* Apply [TensorFlow's Dropout](https://www.tensorflow.org/api_docs/python/tf/nn/dropout) to one or more layers in the model using `keep_prob`. "
   ]
  },
  {
   "cell_type": "code",
   "execution_count": 160,
   "metadata": {
    "collapsed": false
   },
   "outputs": [
    {
     "name": "stdout",
     "output_type": "stream",
     "text": [
      "Neural Network Built!\n"
     ]
    }
   ],
   "source": [
    "def conv_net(x, keep_prob):\n",
    "    \"\"\"\n",
    "    Create a convolutional neural network model\n",
    "    : x: Placeholder tensor that holds image data.\n",
    "    : keep_prob: Placeholder tensor that hold dropout keep probability.\n",
    "    : return: Tensor that represents logits\n",
    "    \"\"\"\n",
    "    # TODO: Apply 1, 2, or 3 Convolution and Max Pool layers\n",
    "    #    Play around with different number of outputs, kernel size and stride\n",
    "    # Function Definition from Above:\n",
    "    #    conv2d_maxpool(x_tensor, conv_num_outputs, conv_ksize, conv_strides, pool_ksize, pool_strides)\n",
    "    #conv2d_maxpool(x_tensor, conv_num_outputs, conv_ksize, conv_strides, pool_ksize, pool_strides)\n",
    "    #Layer 1 - conv\n",
    "    conv_num_outputs = 32\n",
    "    conv_ksize = pool_ksize = (3,3)\n",
    "    conv_strides = pool_strides = (1,1)\n",
    "    conv = conv2d_maxpool(x, conv_num_outputs, conv_ksize, conv_strides, pool_ksize, pool_strides)\n",
    "\n",
    "    #Layer 2 - conv\n",
    "    conv_num_outputs = 32\n",
    "    conv_ksize = pool_ksize = (2,2)\n",
    "    conv_strides = pool_strides = (1,1)\n",
    "    conv = conv2d_maxpool(conv, conv_num_outputs, conv_ksize, conv_strides, pool_ksize, pool_strides)\n",
    "    \n",
    "    #Layer 3 - conv\n",
    "    conv_num_outputs = 32\n",
    "    conv_ksize = pool_ksize = (2,2)\n",
    "    conv_strides = pool_strides = (1,1)\n",
    "    conv = conv2d_maxpool(conv, conv_num_outputs, conv_ksize, conv_strides, pool_ksize, pool_strides)\n",
    "    \n",
    "    # TODO: Apply a Flatten Layer\n",
    "    # Function Definition from Above:\n",
    "    #   flatten(x_tensor)\n",
    "    flatten_layer = flatten(conv)\n",
    "    \n",
    "    # TODO: Apply 1, 2, or 3 Fully Connected Layers\n",
    "    #    Play around with different number of outputs\n",
    "    # Function Definition from Above:\n",
    "    #   fully_conn(x_tensor, num_outputs)\n",
    "    fc = fully_conn(flatten_layer, 32)\n",
    "    fc = tf.nn.dropout(fc, keep_prob)\n",
    "    fc = fully_conn(flatten_layer, 16)\n",
    "    fc = tf.nn.dropout(fc, keep_prob)\n",
    "    fc = fully_conn(flatten_layer, 8)\n",
    "\n",
    "    # TODO: return output\n",
    "    return output(fc, 10)\n",
    "\n",
    "\n",
    "\"\"\"\n",
    "DON'T MODIFY ANYTHING IN THIS CELL THAT IS BELOW THIS LINE\n",
    "\"\"\"\n",
    "\n",
    "##############################\n",
    "## Build the Neural Network ##\n",
    "##############################\n",
    "\n",
    "# Remove previous weights, bias, inputs, etc..\n",
    "tf.reset_default_graph()\n",
    "\n",
    "# Inputs\n",
    "x = neural_net_image_input((32, 32, 3))\n",
    "y = neural_net_label_input(10)\n",
    "keep_prob = neural_net_keep_prob_input()\n",
    "\n",
    "# Model\n",
    "logits = conv_net(x, keep_prob)\n",
    "\n",
    "# Name logits Tensor, so that is can be loaded from disk after training\n",
    "logits = tf.identity(logits, name='logits')\n",
    "\n",
    "# Loss and Optimizer\n",
    "cost = tf.reduce_mean(tf.nn.softmax_cross_entropy_with_logits(logits=logits, labels=y))\n",
    "optimizer = tf.train.AdamOptimizer().minimize(cost)\n",
    "\n",
    "# Accuracy\n",
    "correct_pred = tf.equal(tf.argmax(logits, 1), tf.argmax(y, 1))\n",
    "accuracy = tf.reduce_mean(tf.cast(correct_pred, tf.float32), name='accuracy')\n",
    "\n",
    "tests.test_conv_net(conv_net)"
   ]
  },
  {
   "cell_type": "markdown",
   "metadata": {},
   "source": [
    "## Train the Neural Network\n",
    "### Single Optimization\n",
    "Implement the function `train_neural_network` to do a single optimization.  The optimization should use `optimizer` to optimize in `session` with a `feed_dict` of the following:\n",
    "* `x` for image input\n",
    "* `y` for labels\n",
    "* `keep_prob` for keep probability for dropout\n",
    "\n",
    "This function will be called for each batch, so `tf.global_variables_initializer()` has already been called.\n",
    "\n",
    "Note: Nothing needs to be returned. This function is only optimizing the neural network."
   ]
  },
  {
   "cell_type": "code",
   "execution_count": 161,
   "metadata": {
    "collapsed": false
   },
   "outputs": [
    {
     "name": "stdout",
     "output_type": "stream",
     "text": [
      "Tests Passed\n"
     ]
    }
   ],
   "source": [
    "def train_neural_network(session, optimizer, keep_probability, feature_batch, label_batch):\n",
    "    \"\"\"\n",
    "    Optimize the session on a batch of images and labels\n",
    "    : session: Current TensorFlow session\n",
    "    : optimizer: TensorFlow optimizer function\n",
    "    : keep_probability: keep probability\n",
    "    : feature_batch: Batch of Numpy image data\n",
    "    : label_batch: Batch of Numpy label data\n",
    "    \"\"\"\n",
    "    # TODO: Implement Function\n",
    "    session.run(optimizer, feed_dict={x: feature_batch, y: label_batch, keep_prob: keep_probability})\n",
    "\n",
    "\n",
    "\"\"\"\n",
    "DON'T MODIFY ANYTHING IN THIS CELL THAT IS BELOW THIS LINE\n",
    "\"\"\"\n",
    "tests.test_train_nn(train_neural_network)"
   ]
  },
  {
   "cell_type": "markdown",
   "metadata": {},
   "source": [
    "### Show Stats\n",
    "Implement the function `print_stats` to print loss and validation accuracy.  Use the global variables `valid_features` and `valid_labels` to calculate validation accuracy.  Use a keep probability of `1.0` to calculate the loss and validation accuracy."
   ]
  },
  {
   "cell_type": "code",
   "execution_count": 162,
   "metadata": {
    "collapsed": false
   },
   "outputs": [],
   "source": [
    "def print_stats(session, feature_batch, label_batch, cost, accuracy):\n",
    "    \"\"\"\n",
    "    Print information about loss and validation accuracy\n",
    "    : session: Current TensorFlow session\n",
    "    : feature_batch: Batch of Numpy image data\n",
    "    : label_batch: Batch of Numpy label data\n",
    "    : cost: TensorFlow cost function\n",
    "    : accuracy: TensorFlow accuracy function\n",
    "    \"\"\"\n",
    "    # TODO: Implement Function\n",
    "    loss = session.run(cost, feed_dict={x: feature_batch, y: label_batch, keep_prob: 1.0})\n",
    "    accuracy = session.run(accuracy, feed_dict={x: valid_features, y: valid_labels, keep_prob: 1.0})\n",
    "    print(\"Loss: {}\".format(loss))\n",
    "    print(\"Accuracy: {}\".format(accuracy))"
   ]
  },
  {
   "cell_type": "markdown",
   "metadata": {},
   "source": [
    "### Hyperparameters\n",
    "Tune the following parameters:\n",
    "* Set `epochs` to the number of iterations until the network stops learning or start overfitting\n",
    "* Set `batch_size` to the highest number that your machine has memory for.  Most people set them to common sizes of memory:\n",
    " * 64\n",
    " * 128\n",
    " * 256\n",
    " * ...\n",
    "* Set `keep_probability` to the probability of keeping a node using dropout"
   ]
  },
  {
   "cell_type": "code",
   "execution_count": 163,
   "metadata": {
    "collapsed": true
   },
   "outputs": [],
   "source": [
    "# TODO: Tune Parameters\n",
    "epochs = 30\n",
    "batch_size = 64\n",
    "keep_probability = 0.5"
   ]
  },
  {
   "cell_type": "code",
   "execution_count": 164,
   "metadata": {
    "collapsed": true
   },
   "outputs": [],
   "source": [
    "\"\"\"\n",
    "REQUIRED TO LIMIT MEMORY AND REMOVE THE ERROR\n",
    "ResourceExhaustedError: OOM when allocating category\n",
    "\"\"\"\n",
    "import keras, keras.backend as K\n",
    "def limit_mem():\n",
    "    cfg = K.tf.ConfigProto()\n",
    "    cfg.gpu_options.allow_growth = True\n",
    "    K.set_session(K.tf.Session(config=cfg))\n",
    "limit_mem()"
   ]
  },
  {
   "cell_type": "markdown",
   "metadata": {},
   "source": [
    "### Train on a Single CIFAR-10 Batch\n",
    "Instead of training the neural network on all the CIFAR-10 batches of data, let's use a single batch. This should save time while you iterate on the model to get a better accuracy.  Once the final validation accuracy is 50% or greater, run the model on all the data in the next section."
   ]
  },
  {
   "cell_type": "code",
   "execution_count": 165,
   "metadata": {
    "collapsed": false
   },
   "outputs": [
    {
     "name": "stdout",
     "output_type": "stream",
     "text": [
      "Checking the Training on a Single Batch...\n",
      "Epoch  1, CIFAR-10 Batch 1:  Loss: 2.283379554748535\n",
      "Accuracy: 0.17239998281002045\n",
      "Epoch  2, CIFAR-10 Batch 1:  Loss: 2.0488216876983643\n",
      "Accuracy: 0.3163999915122986\n",
      "Epoch  3, CIFAR-10 Batch 1:  Loss: 1.861721396446228\n",
      "Accuracy: 0.33139997720718384\n",
      "Epoch  4, CIFAR-10 Batch 1:  Loss: 1.7279574871063232\n",
      "Accuracy: 0.368399977684021\n",
      "Epoch  5, CIFAR-10 Batch 1:  Loss: 1.6878633499145508\n",
      "Accuracy: 0.4169999361038208\n",
      "Epoch  6, CIFAR-10 Batch 1:  Loss: 1.6466548442840576\n",
      "Accuracy: 0.43140000104904175\n",
      "Epoch  7, CIFAR-10 Batch 1:  Loss: 1.5949772596359253\n",
      "Accuracy: 0.43859994411468506\n",
      "Epoch  8, CIFAR-10 Batch 1:  Loss: 1.5181587934494019\n",
      "Accuracy: 0.4591999650001526\n",
      "Epoch  9, CIFAR-10 Batch 1:  Loss: 1.4736278057098389\n",
      "Accuracy: 0.4763999581336975\n",
      "Epoch 10, CIFAR-10 Batch 1:  Loss: 1.4028671979904175\n",
      "Accuracy: 0.4859999716281891\n",
      "Epoch 11, CIFAR-10 Batch 1:  Loss: 1.340125560760498\n",
      "Accuracy: 0.4949999451637268\n",
      "Epoch 12, CIFAR-10 Batch 1:  Loss: 1.301269292831421\n",
      "Accuracy: 0.5043999552726746\n",
      "Epoch 13, CIFAR-10 Batch 1:  Loss: 1.2732603549957275\n",
      "Accuracy: 0.5033999681472778\n",
      "Epoch 14, CIFAR-10 Batch 1:  Loss: 1.2554322481155396\n",
      "Accuracy: 0.5023999214172363\n",
      "Epoch 15, CIFAR-10 Batch 1:  Loss: 1.240669846534729\n",
      "Accuracy: 0.4997999370098114\n",
      "Epoch 16, CIFAR-10 Batch 1:  Loss: 1.2251918315887451\n",
      "Accuracy: 0.5027999877929688\n",
      "Epoch 17, CIFAR-10 Batch 1:  Loss: 1.210118055343628\n",
      "Accuracy: 0.5099999904632568\n",
      "Epoch 18, CIFAR-10 Batch 1:  Loss: 1.1968939304351807\n",
      "Accuracy: 0.5077999830245972\n",
      "Epoch 19, CIFAR-10 Batch 1:  Loss: 1.2055256366729736\n",
      "Accuracy: 0.5103999376296997\n",
      "Epoch 20, CIFAR-10 Batch 1:  Loss: 1.218148112297058\n",
      "Accuracy: 0.5113999247550964\n",
      "Epoch 21, CIFAR-10 Batch 1:  Loss: 1.1786197423934937\n",
      "Accuracy: 0.5203999280929565\n",
      "Epoch 22, CIFAR-10 Batch 1:  Loss: 1.1736629009246826\n",
      "Accuracy: 0.5209999680519104\n",
      "Epoch 23, CIFAR-10 Batch 1:  Loss: 1.1413236856460571\n",
      "Accuracy: 0.5151998996734619\n",
      "Epoch 24, CIFAR-10 Batch 1:  Loss: 1.1265478134155273\n",
      "Accuracy: 0.5179999470710754\n",
      "Epoch 25, CIFAR-10 Batch 1:  Loss: 1.114082932472229\n",
      "Accuracy: 0.5187999606132507\n",
      "Epoch 26, CIFAR-10 Batch 1:  Loss: 1.1049613952636719\n",
      "Accuracy: 0.5173999071121216\n",
      "Epoch 27, CIFAR-10 Batch 1:  Loss: 1.0872284173965454\n",
      "Accuracy: 0.5157999992370605\n",
      "Epoch 28, CIFAR-10 Batch 1:  Loss: 1.0642716884613037\n",
      "Accuracy: 0.5135999321937561\n",
      "Epoch 29, CIFAR-10 Batch 1:  Loss: 1.0394219160079956\n",
      "Accuracy: 0.5127999186515808\n",
      "Epoch 30, CIFAR-10 Batch 1:  Loss: 1.0067675113677979\n",
      "Accuracy: 0.5069999694824219\n"
     ]
    }
   ],
   "source": [
    "\"\"\"\n",
    "DON'T MODIFY ANYTHING IN THIS CELL\n",
    "\"\"\"\n",
    "print('Checking the Training on a Single Batch...')\n",
    "with tf.Session() as sess:\n",
    "    # Initializing the variables\n",
    "    sess.run(tf.global_variables_initializer())\n",
    "    \n",
    "    # Training cycle\n",
    "    for epoch in range(epochs):\n",
    "        batch_i = 1\n",
    "        for batch_features, batch_labels in helper.load_preprocess_training_batch(batch_i, batch_size):\n",
    "            train_neural_network(sess, optimizer, keep_probability, batch_features, batch_labels)\n",
    "        print('Epoch {:>2}, CIFAR-10 Batch {}:  '.format(epoch + 1, batch_i), end='')\n",
    "        print_stats(sess, batch_features, batch_labels, cost, accuracy)"
   ]
  },
  {
   "cell_type": "markdown",
   "metadata": {},
   "source": [
    "### Fully Train the Model\n",
    "Now that you got a good accuracy with a single CIFAR-10 batch, try it with all five batches."
   ]
  },
  {
   "cell_type": "code",
   "execution_count": 166,
   "metadata": {
    "collapsed": false
   },
   "outputs": [
    {
     "name": "stdout",
     "output_type": "stream",
     "text": [
      "Training...\n",
      "Epoch  1, CIFAR-10 Batch 1:  Loss: 2.086083173751831\n",
      "Accuracy: 0.2613999843597412\n",
      "Epoch  1, CIFAR-10 Batch 2:  Loss: 1.7534022331237793\n",
      "Accuracy: 0.359000027179718\n",
      "Epoch  1, CIFAR-10 Batch 3:  Loss: 1.5506592988967896\n",
      "Accuracy: 0.39659997820854187\n",
      "Epoch  1, CIFAR-10 Batch 4:  Loss: 1.5917789936065674\n",
      "Accuracy: 0.43059995770454407\n",
      "Epoch  1, CIFAR-10 Batch 5:  Loss: 1.5797827243804932\n",
      "Accuracy: 0.43779999017715454\n",
      "Epoch  2, CIFAR-10 Batch 1:  Loss: 1.7310585975646973\n",
      "Accuracy: 0.46399998664855957\n",
      "Epoch  2, CIFAR-10 Batch 2:  Loss: 1.380321741104126\n",
      "Accuracy: 0.48959994316101074\n",
      "Epoch  2, CIFAR-10 Batch 3:  Loss: 1.2298766374588013\n",
      "Accuracy: 0.5001999735832214\n",
      "Epoch  2, CIFAR-10 Batch 4:  Loss: 1.3400343656539917\n",
      "Accuracy: 0.5207999348640442\n",
      "Epoch  2, CIFAR-10 Batch 5:  Loss: 1.3463411331176758\n",
      "Accuracy: 0.5191999077796936\n",
      "Epoch  3, CIFAR-10 Batch 1:  Loss: 1.4557260274887085\n",
      "Accuracy: 0.4601999521255493\n",
      "Epoch  3, CIFAR-10 Batch 2:  Loss: 1.2228224277496338\n",
      "Accuracy: 0.5375999212265015\n",
      "Epoch  3, CIFAR-10 Batch 3:  Loss: 1.076712727546692\n",
      "Accuracy: 0.539199948310852\n",
      "Epoch  3, CIFAR-10 Batch 4:  Loss: 1.1826541423797607\n",
      "Accuracy: 0.5601999759674072\n",
      "Epoch  3, CIFAR-10 Batch 5:  Loss: 1.248658537864685\n",
      "Accuracy: 0.5529999732971191\n",
      "Epoch  4, CIFAR-10 Batch 1:  Loss: 1.4278100728988647\n",
      "Accuracy: 0.5239999890327454\n",
      "Epoch  4, CIFAR-10 Batch 2:  Loss: 1.1476563215255737\n",
      "Accuracy: 0.561799943447113\n",
      "Epoch  4, CIFAR-10 Batch 3:  Loss: 0.9770050048828125\n",
      "Accuracy: 0.5705999135971069\n",
      "Epoch  4, CIFAR-10 Batch 4:  Loss: 1.0956742763519287\n",
      "Accuracy: 0.5785999298095703\n",
      "Epoch  4, CIFAR-10 Batch 5:  Loss: 1.1738619804382324\n",
      "Accuracy: 0.5749999284744263\n",
      "Epoch  5, CIFAR-10 Batch 1:  Loss: 1.3934885263442993\n",
      "Accuracy: 0.5291999578475952\n",
      "Epoch  5, CIFAR-10 Batch 2:  Loss: 1.101036548614502\n",
      "Accuracy: 0.575999915599823\n",
      "Epoch  5, CIFAR-10 Batch 3:  Loss: 0.9081697463989258\n",
      "Accuracy: 0.5873998999595642\n",
      "Epoch  5, CIFAR-10 Batch 4:  Loss: 1.0073410272598267\n",
      "Accuracy: 0.5959998965263367\n",
      "Epoch  5, CIFAR-10 Batch 5:  Loss: 1.1008573770523071\n",
      "Accuracy: 0.5897999405860901\n",
      "Epoch  6, CIFAR-10 Batch 1:  Loss: 1.301071047782898\n",
      "Accuracy: 0.561799943447113\n",
      "Epoch  6, CIFAR-10 Batch 2:  Loss: 1.0847554206848145\n",
      "Accuracy: 0.5911998748779297\n",
      "Epoch  6, CIFAR-10 Batch 3:  Loss: 0.8782269358634949\n",
      "Accuracy: 0.5953999161720276\n",
      "Epoch  6, CIFAR-10 Batch 4:  Loss: 0.9658865928649902\n",
      "Accuracy: 0.6057999730110168\n",
      "Epoch  6, CIFAR-10 Batch 5:  Loss: 0.9574723243713379\n",
      "Accuracy: 0.5945999026298523\n",
      "Epoch  7, CIFAR-10 Batch 1:  Loss: 1.2657264471054077\n",
      "Accuracy: 0.5811999440193176\n",
      "Epoch  7, CIFAR-10 Batch 2:  Loss: 1.0755354166030884\n",
      "Accuracy: 0.6019998788833618\n",
      "Epoch  7, CIFAR-10 Batch 3:  Loss: 0.8263547420501709\n",
      "Accuracy: 0.5983998775482178\n",
      "Epoch  7, CIFAR-10 Batch 4:  Loss: 0.9471752643585205\n",
      "Accuracy: 0.6139999032020569\n",
      "Epoch  7, CIFAR-10 Batch 5:  Loss: 0.9114031791687012\n",
      "Accuracy: 0.6017999649047852\n",
      "Epoch  8, CIFAR-10 Batch 1:  Loss: 1.2734720706939697\n",
      "Accuracy: 0.5979999303817749\n",
      "Epoch  8, CIFAR-10 Batch 2:  Loss: 1.0468964576721191\n",
      "Accuracy: 0.6211999654769897\n",
      "Epoch  8, CIFAR-10 Batch 3:  Loss: 0.8316463232040405\n",
      "Accuracy: 0.6185998320579529\n",
      "Epoch  8, CIFAR-10 Batch 4:  Loss: 0.9250074028968811\n",
      "Accuracy: 0.6235998868942261\n",
      "Epoch  8, CIFAR-10 Batch 5:  Loss: 0.8674831390380859\n",
      "Accuracy: 0.61819988489151\n",
      "Epoch  9, CIFAR-10 Batch 1:  Loss: 1.2352850437164307\n",
      "Accuracy: 0.6109998822212219\n",
      "Epoch  9, CIFAR-10 Batch 2:  Loss: 1.0378854274749756\n",
      "Accuracy: 0.6289998888969421\n",
      "Epoch  9, CIFAR-10 Batch 3:  Loss: 0.8014392852783203\n",
      "Accuracy: 0.6243999004364014\n",
      "Epoch  9, CIFAR-10 Batch 4:  Loss: 0.9042267203330994\n",
      "Accuracy: 0.6251999139785767\n",
      "Epoch  9, CIFAR-10 Batch 5:  Loss: 0.8341331481933594\n",
      "Accuracy: 0.6283998489379883\n",
      "Epoch 10, CIFAR-10 Batch 1:  Loss: 1.1854475736618042\n",
      "Accuracy: 0.619399905204773\n",
      "Epoch 10, CIFAR-10 Batch 2:  Loss: 1.0080006122589111\n",
      "Accuracy: 0.6369998455047607\n",
      "Epoch 10, CIFAR-10 Batch 3:  Loss: 0.8164840936660767\n",
      "Accuracy: 0.6301999092102051\n",
      "Epoch 10, CIFAR-10 Batch 4:  Loss: 0.8907449245452881\n",
      "Accuracy: 0.6297999024391174\n",
      "Epoch 10, CIFAR-10 Batch 5:  Loss: 0.818278968334198\n",
      "Accuracy: 0.6351999044418335\n",
      "Epoch 11, CIFAR-10 Batch 1:  Loss: 1.2159643173217773\n",
      "Accuracy: 0.625999927520752\n",
      "Epoch 11, CIFAR-10 Batch 2:  Loss: 0.9394075274467468\n",
      "Accuracy: 0.6439999341964722\n",
      "Epoch 11, CIFAR-10 Batch 3:  Loss: 0.7836803197860718\n",
      "Accuracy: 0.644399881362915\n",
      "Epoch 11, CIFAR-10 Batch 4:  Loss: 0.8814871907234192\n",
      "Accuracy: 0.6335998773574829\n",
      "Epoch 11, CIFAR-10 Batch 5:  Loss: 0.8356196284294128\n",
      "Accuracy: 0.637999951839447\n",
      "Epoch 12, CIFAR-10 Batch 1:  Loss: 1.1851664781570435\n",
      "Accuracy: 0.6297999024391174\n",
      "Epoch 12, CIFAR-10 Batch 2:  Loss: 0.9128553867340088\n",
      "Accuracy: 0.6419998407363892\n",
      "Epoch 12, CIFAR-10 Batch 3:  Loss: 0.7745113372802734\n",
      "Accuracy: 0.6499998569488525\n",
      "Epoch 12, CIFAR-10 Batch 4:  Loss: 0.8533115386962891\n",
      "Accuracy: 0.6403998732566833\n",
      "Epoch 12, CIFAR-10 Batch 5:  Loss: 0.8164492249488831\n",
      "Accuracy: 0.6413999199867249\n",
      "Epoch 13, CIFAR-10 Batch 1:  Loss: 1.129304051399231\n",
      "Accuracy: 0.6307998895645142\n",
      "Epoch 13, CIFAR-10 Batch 2:  Loss: 0.855707049369812\n",
      "Accuracy: 0.650199830532074\n",
      "Epoch 13, CIFAR-10 Batch 3:  Loss: 0.7297682762145996\n",
      "Accuracy: 0.6513999700546265\n",
      "Epoch 13, CIFAR-10 Batch 4:  Loss: 0.8498905301094055\n",
      "Accuracy: 0.6481999158859253\n",
      "Epoch 13, CIFAR-10 Batch 5:  Loss: 0.7900720834732056\n",
      "Accuracy: 0.6413999199867249\n",
      "Epoch 14, CIFAR-10 Batch 1:  Loss: 1.1689088344573975\n",
      "Accuracy: 0.6311998963356018\n",
      "Epoch 14, CIFAR-10 Batch 2:  Loss: 0.8457047343254089\n",
      "Accuracy: 0.6523998975753784\n",
      "Epoch 14, CIFAR-10 Batch 3:  Loss: 0.7451714873313904\n",
      "Accuracy: 0.6495999097824097\n",
      "Epoch 14, CIFAR-10 Batch 4:  Loss: 0.799127459526062\n",
      "Accuracy: 0.642599880695343\n",
      "Epoch 14, CIFAR-10 Batch 5:  Loss: 0.8004963397979736\n",
      "Accuracy: 0.6531998515129089\n",
      "Epoch 15, CIFAR-10 Batch 1:  Loss: 1.0927163362503052\n",
      "Accuracy: 0.6317998766899109\n",
      "Epoch 15, CIFAR-10 Batch 2:  Loss: 0.7762695550918579\n",
      "Accuracy: 0.6597999334335327\n",
      "Epoch 15, CIFAR-10 Batch 3:  Loss: 0.7606385350227356\n",
      "Accuracy: 0.6519998908042908\n",
      "Epoch 15, CIFAR-10 Batch 4:  Loss: 0.8308395147323608\n",
      "Accuracy: 0.6487998962402344\n",
      "Epoch 15, CIFAR-10 Batch 5:  Loss: 0.7868112921714783\n",
      "Accuracy: 0.6495998501777649\n",
      "Epoch 16, CIFAR-10 Batch 1:  Loss: 1.0378414392471313\n",
      "Accuracy: 0.6275999546051025\n",
      "Epoch 16, CIFAR-10 Batch 2:  Loss: 0.7685250043869019\n",
      "Accuracy: 0.6591998338699341\n",
      "Epoch 16, CIFAR-10 Batch 3:  Loss: 0.733955979347229\n",
      "Accuracy: 0.6573998928070068\n",
      "Epoch 16, CIFAR-10 Batch 4:  Loss: 0.8104199171066284\n",
      "Accuracy: 0.6463998556137085\n",
      "Epoch 16, CIFAR-10 Batch 5:  Loss: 0.7978719472885132\n",
      "Accuracy: 0.6523998975753784\n",
      "Epoch 17, CIFAR-10 Batch 1:  Loss: 1.0177175998687744\n",
      "Accuracy: 0.6369999051094055\n",
      "Epoch 17, CIFAR-10 Batch 2:  Loss: 0.7571669816970825\n",
      "Accuracy: 0.6577998399734497\n",
      "Epoch 17, CIFAR-10 Batch 3:  Loss: 0.7181826829910278\n",
      "Accuracy: 0.6601998209953308\n",
      "Epoch 17, CIFAR-10 Batch 4:  Loss: 0.8133803606033325\n",
      "Accuracy: 0.6489998698234558\n",
      "Epoch 17, CIFAR-10 Batch 5:  Loss: 0.8079235553741455\n",
      "Accuracy: 0.6495998501777649\n",
      "Epoch 18, CIFAR-10 Batch 1:  Loss: 0.9596756100654602\n",
      "Accuracy: 0.6431999206542969\n",
      "Epoch 18, CIFAR-10 Batch 2:  Loss: 0.7236350774765015\n",
      "Accuracy: 0.6625998020172119\n",
      "Epoch 18, CIFAR-10 Batch 3:  Loss: 0.7000818252563477\n",
      "Accuracy: 0.6599998474121094\n",
      "Epoch 18, CIFAR-10 Batch 4:  Loss: 0.8049262166023254\n",
      "Accuracy: 0.6531999111175537\n",
      "Epoch 18, CIFAR-10 Batch 5:  Loss: 0.7673180103302002\n",
      "Accuracy: 0.6541998386383057\n",
      "Epoch 19, CIFAR-10 Batch 1:  Loss: 0.9289335608482361\n",
      "Accuracy: 0.6453998684883118\n",
      "Epoch 19, CIFAR-10 Batch 2:  Loss: 0.7141968011856079\n",
      "Accuracy: 0.66159987449646\n",
      "Epoch 19, CIFAR-10 Batch 3:  Loss: 0.6703587770462036\n",
      "Accuracy: 0.6667998433113098\n",
      "Epoch 19, CIFAR-10 Batch 4:  Loss: 0.7861486673355103\n",
      "Accuracy: 0.6493998765945435\n",
      "Epoch 19, CIFAR-10 Batch 5:  Loss: 0.7784979343414307\n",
      "Accuracy: 0.6575998663902283\n",
      "Epoch 20, CIFAR-10 Batch 1:  Loss: 0.9128028154373169\n",
      "Accuracy: 0.6513999104499817\n",
      "Epoch 20, CIFAR-10 Batch 2:  Loss: 0.7267941832542419\n",
      "Accuracy: 0.65559983253479\n",
      "Epoch 20, CIFAR-10 Batch 3:  Loss: 0.6808184385299683\n",
      "Accuracy: 0.6685999035835266\n",
      "Epoch 20, CIFAR-10 Batch 4:  Loss: 0.7791874408721924\n",
      "Accuracy: 0.6557998657226562\n",
      "Epoch 20, CIFAR-10 Batch 5:  Loss: 0.7740328907966614\n",
      "Accuracy: 0.6529998183250427\n",
      "Epoch 21, CIFAR-10 Batch 1:  Loss: 0.8854033946990967\n",
      "Accuracy: 0.6461999416351318\n",
      "Epoch 21, CIFAR-10 Batch 2:  Loss: 0.6798643469810486\n",
      "Accuracy: 0.6559998989105225\n",
      "Epoch 21, CIFAR-10 Batch 3:  Loss: 0.6529338955879211\n",
      "Accuracy: 0.6701998710632324\n",
      "Epoch 21, CIFAR-10 Batch 4:  Loss: 0.7743566632270813\n",
      "Accuracy: 0.6603999137878418\n",
      "Epoch 21, CIFAR-10 Batch 5:  Loss: 0.7525718212127686\n",
      "Accuracy: 0.653999924659729\n",
      "Epoch 22, CIFAR-10 Batch 1:  Loss: 0.8873468041419983\n",
      "Accuracy: 0.6481999158859253\n",
      "Epoch 22, CIFAR-10 Batch 2:  Loss: 0.662281334400177\n",
      "Accuracy: 0.6595998406410217\n",
      "Epoch 22, CIFAR-10 Batch 3:  Loss: 0.6097859740257263\n",
      "Accuracy: 0.6659998893737793\n",
      "Epoch 22, CIFAR-10 Batch 4:  Loss: 0.7279020547866821\n",
      "Accuracy: 0.6573998928070068\n",
      "Epoch 22, CIFAR-10 Batch 5:  Loss: 0.7436721324920654\n",
      "Accuracy: 0.6507998704910278\n",
      "Epoch 23, CIFAR-10 Batch 1:  Loss: 0.8404742479324341\n",
      "Accuracy: 0.6431998610496521\n",
      "Epoch 23, CIFAR-10 Batch 2:  Loss: 0.6289458870887756\n",
      "Accuracy: 0.6627998948097229\n",
      "Epoch 23, CIFAR-10 Batch 3:  Loss: 0.6100481152534485\n",
      "Accuracy: 0.6677998900413513\n",
      "Epoch 23, CIFAR-10 Batch 4:  Loss: 0.7180907726287842\n",
      "Accuracy: 0.658599853515625\n",
      "Epoch 23, CIFAR-10 Batch 5:  Loss: 0.7322248220443726\n",
      "Accuracy: 0.6497998833656311\n",
      "Epoch 24, CIFAR-10 Batch 1:  Loss: 0.8367331027984619\n",
      "Accuracy: 0.6401998996734619\n",
      "Epoch 24, CIFAR-10 Batch 2:  Loss: 0.641883373260498\n",
      "Accuracy: 0.6605998873710632\n",
      "Epoch 24, CIFAR-10 Batch 3:  Loss: 0.6121081113815308\n",
      "Accuracy: 0.6673998832702637\n",
      "Epoch 24, CIFAR-10 Batch 4:  Loss: 0.6901466250419617\n",
      "Accuracy: 0.6589998602867126\n",
      "Epoch 24, CIFAR-10 Batch 5:  Loss: 0.6930485963821411\n",
      "Accuracy: 0.6509998440742493\n",
      "Epoch 25, CIFAR-10 Batch 1:  Loss: 0.8458763957023621\n",
      "Accuracy: 0.6425998210906982\n",
      "Epoch 25, CIFAR-10 Batch 2:  Loss: 0.6589223742485046\n",
      "Accuracy: 0.6567999124526978\n",
      "Epoch 25, CIFAR-10 Batch 3:  Loss: 0.586651086807251\n",
      "Accuracy: 0.6647998690605164\n",
      "Epoch 25, CIFAR-10 Batch 4:  Loss: 0.7282934188842773\n",
      "Accuracy: 0.6481998562812805\n",
      "Epoch 25, CIFAR-10 Batch 5:  Loss: 0.6996564269065857\n",
      "Accuracy: 0.6463999152183533\n",
      "Epoch 26, CIFAR-10 Batch 1:  Loss: 0.7877299785614014\n",
      "Accuracy: 0.6431999206542969\n",
      "Epoch 26, CIFAR-10 Batch 2:  Loss: 0.6147251129150391\n",
      "Accuracy: 0.6525999307632446\n",
      "Epoch 26, CIFAR-10 Batch 3:  Loss: 0.5790338516235352\n",
      "Accuracy: 0.6609998345375061\n",
      "Epoch 26, CIFAR-10 Batch 4:  Loss: 0.7094284892082214\n",
      "Accuracy: 0.6515998840332031\n",
      "Epoch 26, CIFAR-10 Batch 5:  Loss: 0.6781154870986938\n",
      "Accuracy: 0.6529998779296875\n",
      "Epoch 27, CIFAR-10 Batch 1:  Loss: 0.7899261713027954\n",
      "Accuracy: 0.6405998468399048\n",
      "Epoch 27, CIFAR-10 Batch 2:  Loss: 0.6086008548736572\n",
      "Accuracy: 0.6515998840332031\n",
      "Epoch 27, CIFAR-10 Batch 3:  Loss: 0.5496726036071777\n",
      "Accuracy: 0.6659998893737793\n",
      "Epoch 27, CIFAR-10 Batch 4:  Loss: 0.7028791904449463\n",
      "Accuracy: 0.6461998820304871\n",
      "Epoch 27, CIFAR-10 Batch 5:  Loss: 0.6604101657867432\n",
      "Accuracy: 0.644399881362915\n",
      "Epoch 28, CIFAR-10 Batch 1:  Loss: 0.7603639364242554\n",
      "Accuracy: 0.638999879360199\n",
      "Epoch 28, CIFAR-10 Batch 2:  Loss: 0.5970255732536316\n",
      "Accuracy: 0.6471998691558838\n",
      "Epoch 28, CIFAR-10 Batch 3:  Loss: 0.5623112916946411\n",
      "Accuracy: 0.660399854183197\n",
      "Epoch 28, CIFAR-10 Batch 4:  Loss: 0.7032375931739807\n",
      "Accuracy: 0.6411999464035034\n",
      "Epoch 28, CIFAR-10 Batch 5:  Loss: 0.6628779768943787\n",
      "Accuracy: 0.6369998455047607\n",
      "Epoch 29, CIFAR-10 Batch 1:  Loss: 0.7135940790176392\n",
      "Accuracy: 0.640799880027771\n",
      "Epoch 29, CIFAR-10 Batch 2:  Loss: 0.5812262296676636\n",
      "Accuracy: 0.6493998765945435\n",
      "Epoch 29, CIFAR-10 Batch 3:  Loss: 0.554955780506134\n",
      "Accuracy: 0.6561999320983887\n",
      "Epoch 29, CIFAR-10 Batch 4:  Loss: 0.6742203831672668\n",
      "Accuracy: 0.6515998840332031\n",
      "Epoch 29, CIFAR-10 Batch 5:  Loss: 0.620830774307251\n",
      "Accuracy: 0.6417999267578125\n",
      "Epoch 30, CIFAR-10 Batch 1:  Loss: 0.6869988441467285\n",
      "Accuracy: 0.6429998874664307\n",
      "Epoch 30, CIFAR-10 Batch 2:  Loss: 0.5559077262878418\n",
      "Accuracy: 0.6475999355316162\n",
      "Epoch 30, CIFAR-10 Batch 3:  Loss: 0.5250681638717651\n",
      "Accuracy: 0.6587998867034912\n",
      "Epoch 30, CIFAR-10 Batch 4:  Loss: 0.6386388540267944\n",
      "Accuracy: 0.6493998765945435\n",
      "Epoch 30, CIFAR-10 Batch 5:  Loss: 0.6041553020477295\n",
      "Accuracy: 0.6467999219894409\n"
     ]
    }
   ],
   "source": [
    "\"\"\"\n",
    "DON'T MODIFY ANYTHING IN THIS CELL\n",
    "\"\"\"\n",
    "save_model_path = './image_classification'\n",
    "\n",
    "print('Training...')\n",
    "with tf.Session() as sess:\n",
    "    # Initializing the variables\n",
    "    sess.run(tf.global_variables_initializer())\n",
    "    \n",
    "    # Training cycle\n",
    "    for epoch in range(epochs):\n",
    "        # Loop over all batches\n",
    "        n_batches = 5\n",
    "        for batch_i in range(1, n_batches + 1):\n",
    "            for batch_features, batch_labels in helper.load_preprocess_training_batch(batch_i, batch_size):\n",
    "                train_neural_network(sess, optimizer, keep_probability, batch_features, batch_labels)\n",
    "            print('Epoch {:>2}, CIFAR-10 Batch {}:  '.format(epoch + 1, batch_i), end='')\n",
    "            print_stats(sess, batch_features, batch_labels, cost, accuracy)\n",
    "            \n",
    "    # Save Model\n",
    "    saver = tf.train.Saver()\n",
    "    save_path = saver.save(sess, save_model_path)"
   ]
  },
  {
   "cell_type": "markdown",
   "metadata": {},
   "source": [
    "# Checkpoint\n",
    "The model has been saved to disk.\n",
    "## Test Model\n",
    "Test your model against the test dataset.  This will be your final accuracy. You should have an accuracy greater than 50%. If you don't, keep tweaking the model architecture and parameters."
   ]
  },
  {
   "cell_type": "code",
   "execution_count": 167,
   "metadata": {
    "collapsed": false
   },
   "outputs": [
    {
     "name": "stdout",
     "output_type": "stream",
     "text": [
      "Testing Accuracy: 0.6499800955414012\n",
      "\n"
     ]
    },
    {
     "data": {
      "image/png": "[encoded data removed]",
      "text/plain": [
       "<matplotlib.figure.Figure at 0x7f00ebeb71d0>"
      ]
     },
     "metadata": {
      "image/png": {
       "height": 319,
       "width": 355
      }
     },
     "output_type": "display_data"
    }
   ],
   "source": [
    "\"\"\"\n",
    "DON'T MODIFY ANYTHING IN THIS CELL\n",
    "\"\"\"\n",
    "%matplotlib inline\n",
    "%config InlineBackend.figure_format = 'retina'\n",
    "\n",
    "import tensorflow as tf\n",
    "import pickle\n",
    "import helper\n",
    "import random\n",
    "\n",
    "# Set batch size if not already set\n",
    "try:\n",
    "    if batch_size:\n",
    "        pass\n",
    "except NameError:\n",
    "    batch_size = 64\n",
    "\n",
    "save_model_path = './image_classification'\n",
    "n_samples = 4\n",
    "top_n_predictions = 3\n",
    "\n",
    "def test_model():\n",
    "    \"\"\"\n",
    "    Test the saved model against the test dataset\n",
    "    \"\"\"\n",
    "\n",
    "    test_features, test_labels = pickle.load(open('preprocess_training.p', mode='rb'))\n",
    "    loaded_graph = tf.Graph()\n",
    "\n",
    "    with tf.Session(graph=loaded_graph) as sess:\n",
    "        # Load model\n",
    "        loader = tf.train.import_meta_graph(save_model_path + '.meta')\n",
    "        loader.restore(sess, save_model_path)\n",
    "\n",
    "        # Get Tensors from loaded model\n",
    "        loaded_x = loaded_graph.get_tensor_by_name('x:0')\n",
    "        loaded_y = loaded_graph.get_tensor_by_name('y:0')\n",
    "        loaded_keep_prob = loaded_graph.get_tensor_by_name('keep_prob:0')\n",
    "        loaded_logits = loaded_graph.get_tensor_by_name('logits:0')\n",
    "        loaded_acc = loaded_graph.get_tensor_by_name('accuracy:0')\n",
    "        \n",
    "        # Get accuracy in batches for memory limitations\n",
    "        test_batch_acc_total = 0\n",
    "        test_batch_count = 0\n",
    "        \n",
    "        for train_feature_batch, train_label_batch in helper.batch_features_labels(test_features, test_labels, batch_size):\n",
    "            test_batch_acc_total += sess.run(\n",
    "                loaded_acc,\n",
    "                feed_dict={loaded_x: train_feature_batch, loaded_y: train_label_batch, loaded_keep_prob: 1.0})\n",
    "            test_batch_count += 1\n",
    "\n",
    "        print('Testing Accuracy: {}\\n'.format(test_batch_acc_total/test_batch_count))\n",
    "\n",
    "        # Print Random Samples\n",
    "        random_test_features, random_test_labels = tuple(zip(*random.sample(list(zip(test_features, test_labels)), n_samples)))\n",
    "        random_test_predictions = sess.run(\n",
    "            tf.nn.top_k(tf.nn.softmax(loaded_logits), top_n_predictions),\n",
    "            feed_dict={loaded_x: random_test_features, loaded_y: random_test_labels, loaded_keep_prob: 1.0})\n",
    "        helper.display_image_predictions(random_test_features, random_test_labels, random_test_predictions)\n",
    "\n",
    "\n",
    "test_model()"
   ]
  },
  {
   "cell_type": "markdown",
   "metadata": {},
   "source": [
    "## Why 50-70% Accuracy?\n",
    "You might be wondering why you can't get an accuracy any higher. First things first, 50% isn't bad for a simple CNN.  Pure guessing would get you 10% accuracy. However, you might notice people are getting scores [well above 70%](http://rodrigob.github.io/are_we_there_yet/build/classification_datasets_results.html#43494641522d3130).  That's because we haven't taught you all there is to know about neural networks. We still need to cover a few more techniques.\n",
    "## Submitting This Project\n",
    "When submitting this project, make sure to run all the cells before saving the notebook.  Save the notebook file as \"dlnd_image_classification.ipynb\" and save it as a HTML file under \"File\" -> \"Download as\".  Include the \"helper.py\" and \"problem_unittests.py\" files in your submission."
   ]
  }
 ],
 "metadata": {
  "kernelspec": {
   "display_name": "Python 3",
   "language": "python",
   "name": "python3"
  },
  "language_info": {
   "codemirror_mode": {
    "name": "ipython",
    "version": 3
   },
   "file_extension": ".py",
   "mimetype": "text/x-python",
   "name": "python",
   "nbconvert_exporter": "python",
   "pygments_lexer": "ipython3",
   "version": "3.6.0"
  }
 },
 "nbformat": 4,
 "nbformat_minor": 0
}
